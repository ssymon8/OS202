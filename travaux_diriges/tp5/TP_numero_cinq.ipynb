{
  "nbformat": 4,
  "nbformat_minor": 0,
  "metadata": {
    "colab": {
      "name": "Untitled5.ipynb",
      "provenance": [],
      "include_colab_link": true
    },
    "kernelspec": {
      "name": "python3",
      "display_name": "Python 3"
    },
    "language_info": {
      "name": "python"
    },
    "accelerator": "GPU"
  },
  "cells": [
    {
      "cell_type": "markdown",
      "metadata": {
        "id": "view-in-github",
        "colab_type": "text"
      },
      "source": [
        "<a href=\"https://colab.research.google.com/github/ssymon8/OS202/blob/main/travaux_diriges/tp5/TP_numero_cinq.ipynb\" target=\"_parent\"><img src=\"https://colab.research.google.com/assets/colab-badge.svg\" alt=\"Open In Colab\"/></a>"
      ]
    },
    {
      "cell_type": "markdown",
      "metadata": {
        "id": "etdu6cUmeDmX"
      },
      "source": [
        "# Configurer votre colab pour le calcul sur GPU\n",
        "Dans le menu au dessus, choisir le sous-menu **Exécution** puis l'option **Modifier le type d'exécution**.\n",
        "\n",
        "Une fenêtre apparaît où vous pouvez choisir un accélérateur matériel. Choisissez un *GPU* puis *enregistrer* votre choix.\n",
        "\n",
        "Afin de vérifier que vous avez bien configuré votre session pour utiliser un GPU, exécuter le code ci-dessous (en passant la souris, une petite flèche pour l'exécuter apparaît).\n",
        "\n",
        "Si tout se passe bien, un tableau (en ascii) apparaît avec le type de carte (et son architecture) auquel vous avez accès. Si un message d'erreur apparaît, vérifiez dans **Modifier le type d'exécution** que l'accélérateur matériel est bien configuré pour un *GPU*"
      ]
    },
    {
      "cell_type": "code",
      "metadata": {
        "colab": {
          "base_uri": "https://localhost:8080/"
        },
        "id": "AisG7sW_bImi",
        "outputId": "2d564366-2a65-4bda-b155-b0eba8db34d0"
      },
      "source": [
        "!nvidia-smi\n"
      ],
      "execution_count": 1,
      "outputs": [
        {
          "output_type": "stream",
          "name": "stdout",
          "text": [
            "Tue Mar  4 09:00:16 2025       \n",
            "+-----------------------------------------------------------------------------------------+\n",
            "| NVIDIA-SMI 550.54.15              Driver Version: 550.54.15      CUDA Version: 12.4     |\n",
            "|-----------------------------------------+------------------------+----------------------+\n",
            "| GPU  Name                 Persistence-M | Bus-Id          Disp.A | Volatile Uncorr. ECC |\n",
            "| Fan  Temp   Perf          Pwr:Usage/Cap |           Memory-Usage | GPU-Util  Compute M. |\n",
            "|                                         |                        |               MIG M. |\n",
            "|=========================================+========================+======================|\n",
            "|   0  Tesla T4                       Off |   00000000:00:04.0 Off |                    0 |\n",
            "| N/A   57C    P8             10W /   70W |       0MiB /  15360MiB |      0%      Default |\n",
            "|                                         |                        |                  N/A |\n",
            "+-----------------------------------------+------------------------+----------------------+\n",
            "                                                                                         \n",
            "+-----------------------------------------------------------------------------------------+\n",
            "| Processes:                                                                              |\n",
            "|  GPU   GI   CI        PID   Type   Process name                              GPU Memory |\n",
            "|        ID   ID                                                               Usage      |\n",
            "|=========================================================================================|\n",
            "|  No running processes found                                                             |\n",
            "+-----------------------------------------------------------------------------------------+\n"
          ]
        }
      ]
    },
    {
      "cell_type": "markdown",
      "metadata": {
        "id": "lKT2rlVxgil3"
      },
      "source": [
        "# Installation de PyCuda\n",
        "\n",
        "Pour utiliser le GPU sous Python il faut soit installer **PyCuda** pour effectuer des calculs, soit **PyTorch** pour effectuer du machine learning accéléré par les GPUs.\n",
        "\n",
        "Dans ce TP, nous nous bornerons uniquement à effectuer des calculs sur GPU !\n",
        "\n",
        "Pour cela, il faut d'abord installer pyCuda et donc exécuter le code ci-dessous (toujours en appuyant sur la flèche pour exécuter le code, et attendez, cela prend un petit moment...)"
      ]
    },
    {
      "cell_type": "code",
      "metadata": {
        "colab": {
          "base_uri": "https://localhost:8080/"
        },
        "id": "juIs9Ostgkoc",
        "outputId": "4dc5aee3-6deb-4238-a7ee-d1c64ccff508"
      },
      "source": [
        "!pip install pycuda"
      ],
      "execution_count": 2,
      "outputs": [
        {
          "output_type": "stream",
          "name": "stdout",
          "text": [
            "Collecting pycuda\n",
            "  Downloading pycuda-2025.1.tar.gz (1.7 MB)\n",
            "\u001b[?25l     \u001b[90m━━━━━━━━━━━━━━━━━━━━━━━━━━━━━━━━━━━━━━━━\u001b[0m \u001b[32m0.0/1.7 MB\u001b[0m \u001b[31m?\u001b[0m eta \u001b[36m-:--:--\u001b[0m\r\u001b[2K     \u001b[91m━━━━━━━━━━━━━━━━━━━━━━━━━\u001b[0m\u001b[90m╺\u001b[0m\u001b[90m━━━━━━━━━━━━━━\u001b[0m \u001b[32m1.1/1.7 MB\u001b[0m \u001b[31m31.8 MB/s\u001b[0m eta \u001b[36m0:00:01\u001b[0m\r\u001b[2K     \u001b[90m━━━━━━━━━━━━━━━━━━━━━━━━━━━━━━━━━━━━━━━━\u001b[0m \u001b[32m1.7/1.7 MB\u001b[0m \u001b[31m31.6 MB/s\u001b[0m eta \u001b[36m0:00:00\u001b[0m\n",
            "\u001b[?25h  Installing build dependencies ... \u001b[?25l\u001b[?25hdone\n",
            "  Getting requirements to build wheel ... \u001b[?25l\u001b[?25hdone\n",
            "  Preparing metadata (pyproject.toml) ... \u001b[?25l\u001b[?25hdone\n",
            "Collecting pytools>=2011.2 (from pycuda)\n",
            "  Downloading pytools-2025.1.1-py3-none-any.whl.metadata (3.0 kB)\n",
            "Requirement already satisfied: platformdirs>=2.2.0 in /usr/local/lib/python3.11/dist-packages (from pycuda) (4.3.6)\n",
            "Collecting mako (from pycuda)\n",
            "  Downloading Mako-1.3.9-py3-none-any.whl.metadata (2.9 kB)\n",
            "Requirement already satisfied: typing-extensions>=4.5 in /usr/local/lib/python3.11/dist-packages (from pytools>=2011.2->pycuda) (4.12.2)\n",
            "Requirement already satisfied: MarkupSafe>=0.9.2 in /usr/local/lib/python3.11/dist-packages (from mako->pycuda) (3.0.2)\n",
            "Downloading pytools-2025.1.1-py3-none-any.whl (92 kB)\n",
            "\u001b[2K   \u001b[90m━━━━━━━━━━━━━━━━━━━━━━━━━━━━━━━━━━━━━━━━\u001b[0m \u001b[32m92.8/92.8 kB\u001b[0m \u001b[31m8.9 MB/s\u001b[0m eta \u001b[36m0:00:00\u001b[0m\n",
            "\u001b[?25hDownloading Mako-1.3.9-py3-none-any.whl (78 kB)\n",
            "\u001b[2K   \u001b[90m━━━━━━━━━━━━━━━━━━━━━━━━━━━━━━━━━━━━━━━━\u001b[0m \u001b[32m78.5/78.5 kB\u001b[0m \u001b[31m7.4 MB/s\u001b[0m eta \u001b[36m0:00:00\u001b[0m\n",
            "\u001b[?25hBuilding wheels for collected packages: pycuda\n",
            "  Building wheel for pycuda (pyproject.toml) ... \u001b[?25l\u001b[?25hdone\n",
            "  Created wheel for pycuda: filename=pycuda-2025.1-cp311-cp311-linux_x86_64.whl size=660393 sha256=a7a4c1052103f001f9e16d42257d9a3fb8401869cf56363f1e343bee2af84113\n",
            "  Stored in directory: /root/.cache/pip/wheels/77/7e/6c/d2d1451ea6424cdc3d67b36c16fa7111eafdf2034bc3405666\n",
            "Successfully built pycuda\n",
            "Installing collected packages: pytools, mako, pycuda\n",
            "Successfully installed mako-1.3.9 pycuda-2025.1 pytools-2025.1.1\n"
          ]
        }
      ]
    },
    {
      "cell_type": "markdown",
      "metadata": {
        "id": "qudDlvJtlFvM"
      },
      "source": [
        "# Vérification du bon fonctionnement du module PyCuda\n",
        "\n",
        "Afin de vérifier le bon fonctionnement de l'installation, nous allons écrire un script Cuda qui servira en même temps d'exemple pour le TP d'aujourd'hui. Ce script sera scindé en plusieurs morceaux et commenté pour que vous compreniez chaque partie du code.\n",
        "\n",
        "Ce code sera très simple : on va créer une matrice 4x4 avec des données prises \"au hasard\" (mais avec une graine aléatoire fixée, donc...) , recopier ce tableau dans la mémoire de la carte graphique et demander à la carte graphique de doubler la valeur de chaque élément de la matrice puis de recopier dans la mémoire de l'ordinateur les valeurs calculées. On affiche ensuite la matrice initiale et la matrice transformée.\n",
        "\n",
        "Dans un premier temps, chargeons les modules python nécessaire à l'exécution d'un noyau Cuda (**Remarque** : l'importation de ces modules n'est nécessaire qu'une seule fois pour **TOUTE** la session. Il sera donc inutile de reimporter ces modules dans le reste du TD !) :"
      ]
    },
    {
      "cell_type": "code",
      "metadata": {
        "id": "oqWKO6k_mw45"
      },
      "source": [
        "import pycuda.driver as cuda\n",
        "import pycuda.autoinit\n",
        "from pycuda.compiler import SourceModule"
      ],
      "execution_count": 21,
      "outputs": []
    },
    {
      "cell_type": "markdown",
      "metadata": {
        "id": "aDlqPZFGm1mH"
      },
      "source": [
        "Créons à l'aide de numpy un tableau *a* dont les valeurs aléatoires sont issues d'une graine fixée :"
      ]
    },
    {
      "cell_type": "code",
      "metadata": {
        "id": "eHjGxA72nD5Q"
      },
      "source": [
        "import numpy\n",
        "numpy.random.seed(1729)\n",
        "a = numpy.random.randn(4,4) # Sous forme de matrice 4 x 4"
      ],
      "execution_count": 12,
      "outputs": []
    },
    {
      "cell_type": "markdown",
      "metadata": {
        "id": "PB_UhGnJnL0H"
      },
      "source": [
        "Puisque certaines cartes graphiques supportent mal le double précision, nous allons demander à Python que les éléments de *a* soient en simple précision :"
      ]
    },
    {
      "cell_type": "code",
      "metadata": {
        "id": "BN3tt27lnZYf",
        "colab": {
          "base_uri": "https://localhost:8080/"
        },
        "outputId": "6ff7048d-1465-43e5-a6df-fc76e6894e2a"
      },
      "source": [
        "a = a.astype(numpy.float32)\n",
        "print(a.nbytes)"
      ],
      "execution_count": 5,
      "outputs": [
        {
          "output_type": "stream",
          "name": "stdout",
          "text": [
            "64\n"
          ]
        }
      ]
    },
    {
      "cell_type": "markdown",
      "metadata": {
        "id": "bFvuQK_wnccf"
      },
      "source": [
        "Nous allons ensuite allouer de la place mémoire sur la mémoire vive du GPU. Comme en C, la place mémoire est exprimée en *Octets* :"
      ]
    },
    {
      "cell_type": "code",
      "metadata": {
        "id": "5WXc0_Q8nqw3"
      },
      "source": [
        "a_gpu = cuda.mem_alloc(a.nbytes)"
      ],
      "execution_count": 6,
      "outputs": []
    },
    {
      "cell_type": "markdown",
      "metadata": {
        "id": "LqIHO5oYnugQ"
      },
      "source": [
        "Une fois la réservation sur le GPU de faite, on recopie les valeurs de *a* dans le tableau *a_gpu* que l'on vient de réserver (htod signifie host **to** device):"
      ]
    },
    {
      "cell_type": "code",
      "metadata": {
        "id": "JMiVGjKEoAJJ"
      },
      "source": [
        "cuda.memcpy_htod(a_gpu, a)"
      ],
      "execution_count": 7,
      "outputs": []
    },
    {
      "cell_type": "markdown",
      "metadata": {
        "id": "G2EIIhLwoDLY"
      },
      "source": [
        "Il faut ensuite écrire le noyau qui s'exécutera sur la carte graphique à l'aide du langage CUDA (qui est une extension du langage C).\n",
        "\n",
        "**Remarquez** dans le code qu'on s'assure que les indices donnés par les numéros de threads ne dépassent pas la dimension de la matrice !"
      ]
    },
    {
      "cell_type": "code",
      "metadata": {
        "id": "p_uaN7JNok9-"
      },
      "source": [
        "mod = SourceModule(\"\"\"\n",
        "__global__ void doublify( int dim_x, int dim_y, float *a )\n",
        "{\n",
        "  if ((threadIdx.x < dim_x) && (threadIdx.y < dim_y))\n",
        "  {\n",
        "    int idx = threadIdx.x + threadIdx.y * dim_x;\n",
        "    a[idx] *= 2;\n",
        "  }\n",
        "}\n",
        "\"\"\")"
      ],
      "execution_count": 14,
      "outputs": []
    },
    {
      "cell_type": "markdown",
      "metadata": {
        "id": "IqsGbd-LqAlF"
      },
      "source": [
        "Nous allons récupérer ensuite un \"handle\" sur le noyau cuda que l'on vient de créer (en invoquant le nom de la fonction) et l'invoquer sur la carte graphique en dimensionnant la grille de calcul à l'aide de *block=(4,4,1)* (et en l'adaptant aux dimensions de la matrice).\n",
        "\n",
        "Ici, nous n'avons pas besoin de configurer de grilles car la dimension de la matrice *a* est petite, mais comme la taille d'un bloc dans une direction est limitée à 256, pour des cas plus gros, il faudra également passer une grille en paramètre à l'aide de *grid=(x,y,z)* où *x,y* et *z* sont des valeurs entières positives et utiliser dans le noyau cuda les valeurs *x,y* et *z* de **blockIdx** et **blockDim**.\n",
        "\n",
        "**REMARQUE IMPORTANTE** : Le noyau cuda ne veut que des types C basiques en argument. Or un entier python est tout sauf un type basique du C. Donc pour passer un argument entier à un noyau cuda, il faut créer un entier 32 bits à l'aide de numpy.int32"
      ]
    },
    {
      "cell_type": "code",
      "metadata": {
        "id": "QW9-l0XaqSuH"
      },
      "source": [
        "func = mod.get_function(\"doublify\")\n",
        "dim = numpy.int32(4)\n",
        "func(dim, dim, a_gpu, block=(4,4,1))"
      ],
      "execution_count": 15,
      "outputs": []
    },
    {
      "cell_type": "markdown",
      "metadata": {
        "id": "tbE0Dg-7qRlt"
      },
      "source": [
        "Il ne reste plus qu'à récupérer les nouvelles valeurs de la matrice en transférant les données de la matrice contenue par le GPU dans un tableau numpy se trouvant dans la RAM de l'ordinateur (dtoh signifie device **to** host) :"
      ]
    },
    {
      "cell_type": "code",
      "metadata": {
        "id": "Dt77Pr7JqrPU"
      },
      "source": [
        "a_doubled = numpy.empty_like(a)\n",
        "cuda.memcpy_dtoh(a_doubled, a_gpu)"
      ],
      "execution_count": 10,
      "outputs": []
    },
    {
      "cell_type": "markdown",
      "metadata": {
        "id": "aCEHT9OMwLCl"
      },
      "source": [
        "Il ne reste plus qu'à afficher la matrice initiale puis la matrice obtenue par le calcul sur GPU :"
      ]
    },
    {
      "cell_type": "code",
      "metadata": {
        "colab": {
          "base_uri": "https://localhost:8080/"
        },
        "id": "s7-qzHVFwP9R",
        "outputId": "b4671344-42ec-46c1-90b4-b47cb808d755"
      },
      "source": [
        "print(f\"a : {a}\")\n",
        "print(f\"a_gpu : {a_doubled}\")"
      ],
      "execution_count": 11,
      "outputs": [
        {
          "output_type": "stream",
          "name": "stdout",
          "text": [
            "a : [[-0.6873394  -0.82099473  1.6523609  -0.57529306]\n",
            " [ 1.0989678   0.92594606 -0.9934138  -0.8582211 ]\n",
            " [ 0.07488676  0.5293555   0.12095155 -0.22442362]\n",
            " [-1.5566785   0.05594088  0.16147153 -2.1346416 ]]\n",
            "a_gpu : [[-1.3746789  -1.6419895   3.3047218  -1.1505861 ]\n",
            " [ 2.1979356   1.8518921  -1.9868276  -1.7164422 ]\n",
            " [ 0.14977352  1.058711    0.2419031  -0.44884723]\n",
            " [-3.113357    0.11188176  0.32294306 -4.2692833 ]]\n"
          ]
        }
      ]
    },
    {
      "cell_type": "markdown",
      "metadata": {
        "id": "loEHbBbLwxwg"
      },
      "source": [
        "## Exercices de mises en bouche\n",
        "\n",
        "En vous inspirant du programme commenté ci-dessus, écrivez un code avec un noyau Cuda qui fait la somme de deux vecteurs de réels simples précisions et qui range le résultat dans un troisième vecteur.\n",
        "\n",
        "On s'exercera à utiliser des vecteurs de \"grandes\" dimensions (> 256) afin de s'entrainer à calculer des indices globaux dans le noyau cuda à l'aide de *threadIdx.x*, *blockIdx.x* et *dimBlock.x*.\n",
        "\n",
        "Ecrivez (ou copier coller) votre code dans la cellule ci-dessous"
      ]
    },
    {
      "cell_type": "code",
      "metadata": {
        "id": "MdP6BpWQyDyx",
        "colab": {
          "base_uri": "https://localhost:8080/"
        },
        "outputId": "773e68a9-b802-435f-be98-10fa96146329"
      },
      "source": [
        "numpy.random.seed(1789)\n",
        "dim = numpy.int32(256)\n",
        "a = numpy.random.randn(256,1) # Sous forme de matrice 4 x 1\n",
        "b = numpy.random.randn(256,1) # Sous forme de matrice 4 x 1\n",
        "\n",
        "a = a.astype(numpy.float32)\n",
        "b = b.astype(numpy.float32)\n",
        "print(a.nbytes, b.nbytes)\n",
        "\n",
        "a_gpu = cuda.mem_alloc(a.nbytes)\n",
        "b_gpu = cuda.mem_alloc(b.nbytes)\n",
        "c_gpu= cuda.mem_alloc(a.nbytes)\n",
        "\n",
        "cuda.memcpy_htod(a_gpu, a)\n",
        "cuda.memcpy_htod(b_gpu, b)\n",
        "\n",
        "mod = SourceModule(\"\"\"\n",
        "__global__ void somme_de_vecteur( int dim_x, float *a, float *b, float *c )\n",
        "{\n",
        "  if ((threadIdx.x < dim_x))\n",
        "  {\n",
        "    int idx = threadIdx.x;\n",
        "    c[idx] = a[idx] + b[idx];\n",
        "  }\n",
        "}\n",
        "\"\"\")\n",
        "\n",
        "func2 = mod.get_function(\"somme_de_vecteur\")\n",
        "func2(dim, a_gpu, b_gpu, c_gpu, block=(256,1,1))\n",
        "\n",
        "c = numpy.empty_like(a)\n",
        "cuda.memcpy_dtoh(c, c_gpu)\n",
        "\n",
        "print(f\"c : {c}\")\n"
      ],
      "execution_count": 29,
      "outputs": [
        {
          "output_type": "stream",
          "name": "stdout",
          "text": [
            "1024 1024\n",
            "c : [[-2.74965048e+00]\n",
            " [-9.81229544e-02]\n",
            " [ 9.01095688e-01]\n",
            " [ 1.26722360e+00]\n",
            " [-2.25321746e+00]\n",
            " [ 9.43344176e-01]\n",
            " [ 1.32210016e-01]\n",
            " [ 2.15665054e+00]\n",
            " [-2.06384254e+00]\n",
            " [ 6.31484687e-01]\n",
            " [-2.69660443e-01]\n",
            " [-4.06527907e-01]\n",
            " [-1.68296218e+00]\n",
            " [-2.40221477e+00]\n",
            " [ 1.13371801e+00]\n",
            " [-3.99013013e-01]\n",
            " [-1.61716199e+00]\n",
            " [-1.67576313e+00]\n",
            " [-1.08076990e-01]\n",
            " [-1.64931583e+00]\n",
            " [-1.54033577e+00]\n",
            " [-1.40880656e+00]\n",
            " [ 6.84155703e-01]\n",
            " [ 2.35878563e+00]\n",
            " [ 4.78698045e-01]\n",
            " [ 6.82821572e-01]\n",
            " [-4.38008904e-01]\n",
            " [-3.90754730e-01]\n",
            " [-1.22199619e+00]\n",
            " [-2.27479219e+00]\n",
            " [ 1.31252027e+00]\n",
            " [ 8.44358087e-01]\n",
            " [ 2.68278211e-01]\n",
            " [ 3.66260111e-01]\n",
            " [-1.17577291e+00]\n",
            " [-1.36975944e+00]\n",
            " [-1.79681766e+00]\n",
            " [-1.15294576e+00]\n",
            " [-3.38747740e+00]\n",
            " [ 3.77899587e-01]\n",
            " [-1.39499891e+00]\n",
            " [ 2.21650267e+00]\n",
            " [-3.69439578e+00]\n",
            " [ 1.59314322e+00]\n",
            " [ 2.03655392e-01]\n",
            " [-1.51303065e+00]\n",
            " [ 3.88492346e-02]\n",
            " [-2.17160702e+00]\n",
            " [ 1.10293460e+00]\n",
            " [-4.45087850e-01]\n",
            " [-2.05506372e+00]\n",
            " [ 5.05996644e-01]\n",
            " [ 6.24126196e-03]\n",
            " [-7.92449117e-01]\n",
            " [-6.16095603e-01]\n",
            " [ 3.85895014e-01]\n",
            " [ 8.68434072e-01]\n",
            " [ 4.96772408e-01]\n",
            " [-1.18459415e+00]\n",
            " [ 3.68238807e-01]\n",
            " [-4.07848954e-01]\n",
            " [-1.42809582e+00]\n",
            " [-1.23448610e-01]\n",
            " [-1.90154648e+00]\n",
            " [ 6.72766328e-01]\n",
            " [-1.05664718e+00]\n",
            " [-3.07265460e-01]\n",
            " [ 9.19417143e-01]\n",
            " [-1.54397392e+00]\n",
            " [-1.04051399e+00]\n",
            " [ 3.14868569e-01]\n",
            " [-8.17992210e-01]\n",
            " [-5.17110467e-01]\n",
            " [ 2.94950962e+00]\n",
            " [-1.65538847e-01]\n",
            " [-8.01228583e-02]\n",
            " [ 2.92872012e-01]\n",
            " [ 2.84504604e+00]\n",
            " [-1.11754715e+00]\n",
            " [ 1.35632443e+00]\n",
            " [-1.69373631e+00]\n",
            " [ 5.42327285e-01]\n",
            " [ 9.42529500e-01]\n",
            " [ 1.89280105e+00]\n",
            " [-1.04203200e+00]\n",
            " [-2.03113914e+00]\n",
            " [-8.04572880e-01]\n",
            " [ 9.17179942e-01]\n",
            " [ 3.31678820e+00]\n",
            " [ 2.55657244e+00]\n",
            " [-1.07776880e+00]\n",
            " [ 7.45536506e-01]\n",
            " [-7.78678894e-01]\n",
            " [-1.18858719e+00]\n",
            " [ 1.05288491e-01]\n",
            " [ 5.50361872e-02]\n",
            " [ 1.39344966e+00]\n",
            " [-1.51350260e+00]\n",
            " [-2.64956474e-01]\n",
            " [-2.57346109e-02]\n",
            " [ 1.27804208e+00]\n",
            " [-1.51674914e+00]\n",
            " [-1.88508749e+00]\n",
            " [ 9.64062929e-01]\n",
            " [ 5.60645342e-01]\n",
            " [-9.83766198e-01]\n",
            " [-1.50369361e-01]\n",
            " [ 3.55038333e+00]\n",
            " [ 7.76503265e-01]\n",
            " [ 1.34982014e+00]\n",
            " [ 1.16082013e+00]\n",
            " [-9.16380286e-02]\n",
            " [-3.88427913e-01]\n",
            " [ 2.30883813e+00]\n",
            " [ 1.31657934e+00]\n",
            " [ 1.63824046e+00]\n",
            " [-2.08475971e+00]\n",
            " [ 1.95353663e+00]\n",
            " [ 1.78845787e+00]\n",
            " [ 2.30885673e+00]\n",
            " [ 1.02127790e-02]\n",
            " [ 1.38158822e+00]\n",
            " [ 2.74504423e-01]\n",
            " [ 1.82101798e+00]\n",
            " [-7.42363274e-01]\n",
            " [-2.09323311e+00]\n",
            " [-6.24141470e-03]\n",
            " [ 3.18053842e-01]\n",
            " [-1.59729338e+00]\n",
            " [ 1.42033488e-01]\n",
            " [ 1.48809955e-01]\n",
            " [-1.77627277e+00]\n",
            " [ 1.94550478e+00]\n",
            " [ 1.65753245e-01]\n",
            " [-1.30293620e+00]\n",
            " [ 3.67211401e-02]\n",
            " [-2.12520957e-01]\n",
            " [ 3.40811539e+00]\n",
            " [-8.24487329e-01]\n",
            " [-1.02687287e+00]\n",
            " [ 5.14211059e-01]\n",
            " [ 1.31039178e+00]\n",
            " [-1.76976371e+00]\n",
            " [ 1.80441606e+00]\n",
            " [-1.24734998e+00]\n",
            " [-4.27802980e-01]\n",
            " [-2.87632036e+00]\n",
            " [ 4.18231040e-02]\n",
            " [ 3.08546901e-01]\n",
            " [-2.05910349e+00]\n",
            " [ 1.09609771e+00]\n",
            " [ 5.32907486e-01]\n",
            " [-6.80788875e-01]\n",
            " [-8.58797133e-02]\n",
            " [-4.32093084e-01]\n",
            " [ 4.25443232e-01]\n",
            " [ 1.41318071e+00]\n",
            " [ 3.17994177e-01]\n",
            " [ 7.08901107e-01]\n",
            " [-6.51146352e-01]\n",
            " [ 2.87007689e-01]\n",
            " [ 1.43198705e+00]\n",
            " [-6.53909802e-01]\n",
            " [-1.50407159e+00]\n",
            " [ 8.41158569e-01]\n",
            " [ 9.31114852e-01]\n",
            " [ 1.19598973e+00]\n",
            " [ 7.40339994e-01]\n",
            " [-1.56838691e+00]\n",
            " [ 2.47723103e-01]\n",
            " [ 4.04443860e-01]\n",
            " [-2.12440300e+00]\n",
            " [-6.72076881e-01]\n",
            " [ 2.05107880e+00]\n",
            " [-2.25563526e+00]\n",
            " [-2.69602370e+00]\n",
            " [ 1.11106634e+00]\n",
            " [-2.37471327e-01]\n",
            " [ 1.82318246e+00]\n",
            " [ 1.04131889e+00]\n",
            " [ 1.67233276e+00]\n",
            " [-6.46020472e-01]\n",
            " [-9.44711566e-02]\n",
            " [-1.68825984e+00]\n",
            " [-9.14863944e-01]\n",
            " [ 1.27416849e-01]\n",
            " [ 7.63312936e-01]\n",
            " [-1.96481431e+00]\n",
            " [-1.39652669e+00]\n",
            " [-2.16467237e+00]\n",
            " [-2.96785295e-01]\n",
            " [-1.11167085e+00]\n",
            " [ 7.95550942e-01]\n",
            " [ 2.55723906e+00]\n",
            " [-1.42080307e-01]\n",
            " [ 2.08188701e+00]\n",
            " [-2.57595634e+00]\n",
            " [ 3.31696749e-01]\n",
            " [ 1.16209984e-02]\n",
            " [-2.87892962e+00]\n",
            " [-1.79283512e+00]\n",
            " [-9.10204649e-03]\n",
            " [ 7.64440000e-03]\n",
            " [ 5.44165611e-01]\n",
            " [ 1.52215600e-01]\n",
            " [-2.01630592e-01]\n",
            " [-1.56341541e+00]\n",
            " [ 4.88096178e-01]\n",
            " [ 7.33802915e-01]\n",
            " [-2.44866419e+00]\n",
            " [-1.73935866e+00]\n",
            " [ 2.71758795e+00]\n",
            " [ 1.07227421e+00]\n",
            " [-1.75041139e-01]\n",
            " [-1.03344893e+00]\n",
            " [ 2.42598772e+00]\n",
            " [-1.49608839e+00]\n",
            " [ 8.00137341e-01]\n",
            " [-3.81431967e-01]\n",
            " [-3.35076451e-03]\n",
            " [ 1.88364387e-02]\n",
            " [-5.32297790e-01]\n",
            " [-1.65060401e-01]\n",
            " [-5.54735601e-01]\n",
            " [-1.96840167e+00]\n",
            " [-1.12372553e+00]\n",
            " [-1.19907305e-01]\n",
            " [ 2.94329548e+00]\n",
            " [-9.69741046e-01]\n",
            " [ 1.36499321e+00]\n",
            " [-1.61064148e-01]\n",
            " [ 8.18476081e-02]\n",
            " [ 1.25000620e+00]\n",
            " [-1.69874442e+00]\n",
            " [-2.30391240e+00]\n",
            " [ 5.52936375e-01]\n",
            " [ 4.67001021e-01]\n",
            " [-1.67931509e+00]\n",
            " [-9.62045312e-01]\n",
            " [-1.36289775e+00]\n",
            " [-9.05179977e-01]\n",
            " [ 2.46580911e+00]\n",
            " [-4.85339403e-01]\n",
            " [ 5.49614847e-01]\n",
            " [ 5.91354668e-02]\n",
            " [-1.07931566e+00]\n",
            " [ 2.13861609e+00]\n",
            " [ 1.65372407e+00]\n",
            " [ 2.66065598e-02]\n",
            " [-1.21832788e+00]\n",
            " [-1.32539630e+00]\n",
            " [-1.39515638e+00]\n",
            " [ 1.64469814e+00]\n",
            " [-5.59896529e-01]\n",
            " [ 2.31704450e+00]\n",
            " [ 5.20612836e-01]]\n"
          ]
        }
      ]
    },
    {
      "cell_type": "markdown",
      "metadata": {
        "id": "esWwXhGMy8vJ"
      },
      "source": [
        "Une fois le code mis au point, recopiez le ci-dessous et adaptez le pour additionner deux matrices carrées dans une troisième."
      ]
    },
    {
      "cell_type": "code",
      "metadata": {
        "id": "lMAqLHVmzJbG",
        "colab": {
          "base_uri": "https://localhost:8080/"
        },
        "outputId": "12e8f9b7-7bb8-4643-a04b-d3be0031963f"
      },
      "source": [
        "numpy.random.seed(1789)\n",
        "dim = numpy.int32(128)\n",
        "a = numpy.random.randn(128,128) # Sous forme de matrice 4 x 1\n",
        "b = numpy.random.randn(128,128) # Sous forme de matrice 4 x 1\n",
        "\n",
        "a = a.astype(numpy.float32)\n",
        "b = b.astype(numpy.float32)\n",
        "print(a.nbytes, b.nbytes)\n",
        "\n",
        "a_gpu = cuda.mem_alloc(a.nbytes)\n",
        "b_gpu = cuda.mem_alloc(b.nbytes)\n",
        "c_gpu= cuda.mem_alloc(a.nbytes)\n",
        "\n",
        "cuda.memcpy_htod(a_gpu, a)\n",
        "cuda.memcpy_htod(b_gpu, b)\n",
        "\n",
        "mod = SourceModule(\"\"\"\n",
        "__global__ void somme_de_matrices_carrees( int dim_x, int dim_y, float *a, float *b, float *c )\n",
        "{\n",
        "  if ((threadIdx.x < dim_x) && (threadIdx.y < dim_y))\n",
        "  {\n",
        "    int idx = threadIdx.x+ threadIdx.y*dim_x;\n",
        "    c[idx] = a[idx] + b[idx];\n",
        "  }\n",
        "}\n",
        "\"\"\")\n",
        "\n",
        "func3 = mod.get_function(\"somme_de_matrices_carrees\")\n",
        "func3(dim, dim, a_gpu, b_gpu, c_gpu, block=(32,32,1))\n",
        "\n",
        "c = numpy.empty_like(a)\n",
        "cuda.memcpy_dtoh(c, c_gpu)\n",
        "\n",
        "print(f\"c : {c}\")\n"
      ],
      "execution_count": 32,
      "outputs": [
        {
          "output_type": "stream",
          "name": "stdout",
          "text": [
            "65536 65536\n",
            "c : [[-2.9608202  -0.4728956   3.212632   ...  0.50380945 -2.3193629\n",
            "  -0.82292604]\n",
            " [-1.9364815   1.7833993  -1.4418666  ... -1.5673864   0.2866701\n",
            "   0.9796496 ]\n",
            " [-1.8050921   0.02426013 -0.8761095  ... -0.25020066 -0.28853694\n",
            "  -0.17016883]\n",
            " ...\n",
            " [ 0.6869815   0.4955311   0.09507259 ... -0.57868254  0.73780465\n",
            "  -0.67232996]\n",
            " [-1.1114113   0.2063345   0.24274994 ...  0.1874911   0.27498478\n",
            "  -1.5604597 ]\n",
            " [-0.505658    1.5486096   0.07095197 ...  0.25037438  0.1997908\n",
            "  -0.29115433]]\n"
          ]
        }
      ]
    },
    {
      "cell_type": "markdown",
      "metadata": {
        "id": "_67yypc0yL0g"
      },
      "source": [
        "# Exercice final\n",
        "\n",
        "Nous allons de nouveau nous intéresser à l'ensemble de Mandelbrot. La cellule ci-dessous contient un code permettant de calculer à l'aide de numpy un ensemble de mandelbrot (le code est simplifié par rapport aux codes sur CPU pour faciliter le TP même si il utilise la notation vectorielle de numpy (il faudra y faire attention pour code le noyau cuda !) : code repris de https://stackoverflow.com/questions/60467316/displaying-mandelbrot-set-in-python-using-matplotlib-pyplot-and-numpy).\n",
        "\n",
        "Transformez le de sorte que sur GPU, chaque thread calcule un pixel de l'image de destination."
      ]
    },
    {
      "cell_type": "code",
      "metadata": {
        "colab": {
          "base_uri": "https://localhost:8080/",
          "height": 597
        },
        "id": "YcAhzA4Gzb51",
        "outputId": "3264b2ec-b8ee-49a6-f275-ee066a2f2d09"
      },
      "source": [
        "import pylab as plt\n",
        "import numpy as np\n",
        "# initial values\n",
        "loop = 100 # number of interations\n",
        "div = 1000 # divisions\n",
        "# all possible values of c\n",
        "c = np.linspace(-2,2,div)[:,np.newaxis] + 1j*np.linspace(-1.5,1.5,div)[np.newaxis,:]\n",
        "# array of ones of same dimensions as c\n",
        "ones = np.ones(np.shape(c),int)\n",
        "# Array that will hold colors for plot, initial value set here will be\n",
        "# the color of the points in the mandelbrot set, i.e. where the series\n",
        "# converges.\n",
        "# For the code below to work, this initial value must at least be 'loop'.\n",
        "# Here it is loop + 5\n",
        "color = ones * loop + 5\n",
        "z = 0\n",
        "for n in range(0,loop):\n",
        "      z = z**2 + c\n",
        "      diverged = np.abs(z)>2\n",
        "      # Store value of n at which series was detected to diverge.\n",
        "      # The later the series is detected to diverge, the higher\n",
        "      # the 'color' value.\n",
        "      color[diverged] = np.minimum(color[diverged], ones[diverged]*n)\n",
        "\n",
        "plt.rcParams['figure.figsize'] = [12, 7.5]\n",
        "# contour plot with real and imaginary parts of c as axes\n",
        "# and colored according to 'color'\n",
        "plt.contourf(c.real, c.imag, color)\n",
        "plt.xlabel(\"Real($c$)\")\n",
        "plt.ylabel(\"Imag($c$)\")\n",
        "plt.xlim(-2,2)\n",
        "plt.ylim(-1.5,1.5)\n",
        "plt.savefig(\"plot.png\")\n",
        "plt.show()"
      ],
      "execution_count": 35,
      "outputs": [
        {
          "output_type": "stream",
          "name": "stderr",
          "text": [
            "<ipython-input-35-07093275093a>:18: RuntimeWarning: overflow encountered in square\n",
            "  z = z**2 + c\n",
            "<ipython-input-35-07093275093a>:18: RuntimeWarning: invalid value encountered in square\n",
            "  z = z**2 + c\n"
          ]
        },
        {
          "output_type": "display_data",
          "data": {
            "text/plain": [
              "<Figure size 1200x750 with 1 Axes>"
            ],
            "image/png": "[encoded data removed]"
          },
          "metadata": {}
        }
      ]
    },
    {
      "cell_type": "code",
      "source": [
        "# initial values\n",
        "loop = np.int32(100) # number of interations\n",
        "div = np.int32(1000) # divisions\n",
        "# all possible values of c\n",
        "c = np.linspace(-2,2,div)[:,np.newaxis] + 1j*np.linspace(-1.5,1.5,div)[np.newaxis,:]\n",
        "\n",
        "ones = np.ones(np.shape(c),int)\n",
        "color = ones * loop + 5\n",
        "\n",
        "\n",
        "#un gpu ne sait pas gérer des complexes on va donc séparer l'array c en sa partie réelle et sa partie imaginaire\n",
        "# (en simple floats évidemment)\n",
        "real_c = c.real.astype(np.float32)\n",
        "imag_c = c.imag.astype(np.float32)\n",
        "color = color.astype(np.float32)\n",
        "\n",
        "#même process qu'avant\n",
        "real_c_gpu = cuda.mem_alloc(real_c.nbytes)\n",
        "imag_c_gpu = cuda.mem_alloc(imag_c.nbytes)\n",
        "color_gpu = cuda.mem_alloc(color.nbytes)\n",
        "\n",
        "cuda.memcpy_htod(real_c_gpu, real_c)\n",
        "cuda.memcpy_htod(imag_c_gpu, imag_c)\n",
        "cuda.memcpy_htod(color_gpu, color)\n",
        "\n",
        "\n",
        "\n",
        "mod=SourceModule(\"\"\"\n",
        "    __global__ void mandelbrot(int loop, int div, float *real_c, float *imag_c, float *color)\n",
        "{\n",
        "  float real_z=0;\n",
        "  float imag_z=0;\n",
        "  int n;\n",
        "  for (n=0; n<loop; n++)\n",
        "  {\n",
        "    int idx = blockIdx.x * blockDim.x + threadIdx.x + (blockIdx.y * blockDim.y + threadIdx.y) * div;\n",
        "\n",
        "    if ((blockIdx.x * blockDim.x + threadIdx.x < div) && (blockIdx.y * blockDim.y + threadIdx.y < div)) {\n",
        "      float real_z_new = real_z*real_z - imag_z*imag_z + real_c[idx];\n",
        "      float imag_z_new = 2*real_z*imag_z + imag_c[idx];\n",
        "\n",
        "      if (real_z_new*real_z_new + imag_z_new*imag_z_new > 4)\n",
        "      {\n",
        "        color[idx] = n;\n",
        "        break;\n",
        "      }\n",
        "\n",
        "      real_z = real_z_new;\n",
        "      imag_z = imag_z_new;\n",
        "    }\n",
        "\n",
        "  }\n",
        "}\n",
        "\"\"\")\n",
        "\n",
        "func4 = mod.get_function(\"mandelbrot\")\n",
        "func4(loop, div, real_c_gpu, imag_c_gpu, color_gpu, block=(32,32,1))\n",
        "\n",
        "color_result = numpy.empty_like(real_c)\n",
        "cuda.memcpy_dtoh(color_result, color_gpu)\n",
        "\n",
        "plt.rcParams['figure.figsize'] = [12, 7.5]\n",
        "# contour plot with real and imaginary parts of c as axes\n",
        "# and colored according to 'color'\n",
        "plt.contourf(c.real, c.imag, color)\n",
        "plt.xlabel(\"Real($c$)\")\n",
        "plt.ylabel(\"Imag($c$)\")\n",
        "plt.xlim(-2,2)\n",
        "plt.ylim(-1.5,1.5)\n",
        "plt.savefig(\"plot.png\")\n",
        "plt.show()"
      ],
      "metadata": {
        "colab": {
          "base_uri": "https://localhost:8080/",
          "height": 617
        },
        "id": "v1MTNPDIpQWu",
        "outputId": "a5b8d74d-deb8-4c84-c789-d08fcde8ab4b"
      },
      "execution_count": 41,
      "outputs": [
        {
          "output_type": "stream",
          "name": "stderr",
          "text": [
            "/usr/local/lib/python3.11/dist-packages/google/colab/_variable_inspector.py:27: UserWarning: device_allocation in out-of-thread context could not be cleaned up\n",
            "  globals().clear()\n",
            "/usr/local/lib/python3.11/dist-packages/google/colab/_variable_inspector.py:27: UserWarning: module in out-of-thread context could not be cleaned up\n",
            "  globals().clear()\n"
          ]
        },
        {
          "output_type": "display_data",
          "data": {
            "text/plain": [
              "<Figure size 1200x750 with 1 Axes>"
            ],
            "image/png": "[encoded data removed]"
          },
          "metadata": {}
        }
      ]
    }
  ]
}